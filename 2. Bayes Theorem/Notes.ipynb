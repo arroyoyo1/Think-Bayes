{
 "cells": [
  {
   "cell_type": "markdown",
   "metadata": {},
   "source": [
    "# ***2. Bayes's Theorem***"
   ]
  },
  {
   "cell_type": "markdown",
   "metadata": {},
   "source": [
    "> ## **2.1 Diachronic Bayes**\n",
    "***\n",
    "There is another way to think of Bayes's theorem: it gives us a way to update the probability of a hypothesis, $H$, given some body of data, $D$.\n",
    "\n",
    "- Diachronic means \"related to change over time\"; in this case, the probability of the hypotheses changes as we see new data.\n",
    "\n",
    "Rewriting Bayes's theorem with $H$ and $D$ yields:\n",
    "\n",
    "$$P(H|D) = \\frac{P(H)~P(D|H)}{P(D)}$$\n",
    "\n",
    "In this interpretation, each term has a name:\n",
    "\n",
    "-  $P(H)$ is the probability of the hypothesis before we see the data, called the **prior**.\n",
    "\n",
    "-  $P(D|H)$ is the probability of the data under the hypothesis, called the **likelihood**.\n",
    "\n",
    "-  $P(D)$ is, under any hypothesis, the **total probability of the data**.\n",
    "\n",
    "-  $P(H|D)$ is the probability of the hypothesis after we see the data, called the **posterior**.\n",
    "\n",
    "We can compute the prior based on background information but in some cases the prior is subjective either because they use different background information or because they interpret the same information differently. \n",
    "\n",
    "Computing the total probability of the data can be tricky. It is supposed to be the probability of seeing the data under any hypothesis at all, but it can be hard to nail down what that means. Most often we simplify things by specifying a MECE set of hypotheses and compute $P(D)$ using the Law of Total Probability."
   ]
  },
  {
   "cell_type": "markdown",
   "metadata": {},
   "source": [
    "> ## **2.2 Bayes Tables**\n",
    "***\n",
    "\n",
    ">_Suppose there are two bowls of cookies._\n",
    ">\n",
    "> _Bowl 1 contains 30 vanilla cookies and 10 chocolate cookies._\n",
    ">\n",
    "> _Bowl 2 contains 20 vanilla cookies and 20 chocolate cookies._\n",
    ">\n",
    "> _Now suppose you choose one of the bowls at random and, without looking, choose a cookie at random. If it's a vanilla cookie, what is the probability that it came from Bowl 1?_\n",
    "\n",
    "A convenient tool for approaching this problem is Bayes tables."
   ]
  },
  {
   "cell_type": "code",
   "execution_count": 1,
   "metadata": {},
   "outputs": [
    {
     "data": {
      "text/html": [
       "<div>\n",
       "<style scoped>\n",
       "    .dataframe tbody tr th:only-of-type {\n",
       "        vertical-align: middle;\n",
       "    }\n",
       "\n",
       "    .dataframe tbody tr th {\n",
       "        vertical-align: top;\n",
       "    }\n",
       "\n",
       "    .dataframe thead th {\n",
       "        text-align: right;\n",
       "    }\n",
       "</style>\n",
       "<table border=\"1\" class=\"dataframe\">\n",
       "  <thead>\n",
       "    <tr style=\"text-align: right;\">\n",
       "      <th></th>\n",
       "      <th>prior</th>\n",
       "      <th>likelihood</th>\n",
       "    </tr>\n",
       "  </thead>\n",
       "  <tbody>\n",
       "    <tr>\n",
       "      <th>Bowl 1</th>\n",
       "      <td>0.5</td>\n",
       "      <td>0.75</td>\n",
       "    </tr>\n",
       "    <tr>\n",
       "      <th>Bowl 2</th>\n",
       "      <td>0.5</td>\n",
       "      <td>0.50</td>\n",
       "    </tr>\n",
       "  </tbody>\n",
       "</table>\n",
       "</div>"
      ],
      "text/plain": [
       "        prior  likelihood\n",
       "Bowl 1    0.5        0.75\n",
       "Bowl 2    0.5        0.50"
      ]
     },
     "execution_count": 1,
     "metadata": {},
     "output_type": "execute_result"
    }
   ],
   "source": [
    "import pandas as pd\n",
    "\n",
    "# Empty DataFrame with one row for each bowl (hypothesis)\n",
    "table = pd.DataFrame(index=['Bowl 1', 'Bowl 2'])\n",
    "# Add a column to represent the priors\n",
    "table['prior'] = 1/2, 1/2\n",
    "# Add a column to represent likelihood (chance of getting a vanilla cookie in each bowl)\n",
    "table['likelihood'] = 3/4, 1/2\n",
    "table"
   ]
  },
  {
   "cell_type": "markdown",
   "metadata": {},
   "source": [
    "- Notice that the likelihoods don’t add up to 1; each of them is a probability conditioned on a different hypothesis. There’s no reason they should add up to 1 and no problem if they don’t.\n",
    "\n",
    "The next step is to multiply the `priors` by the `likelihoods` → $P(H_1) P(D|H_1)$, which is the numerator, then calculate the total probability → $P(H_1)~P(D|H_1) + P(H_2)~P(D|H_2)$, which is the denominator and finally divide both terms."
   ]
  },
  {
   "cell_type": "code",
   "execution_count": 21,
   "metadata": {},
   "outputs": [
    {
     "name": "stdout",
     "output_type": "stream",
     "text": [
      "Total Probability: 0.625\n"
     ]
    },
    {
     "data": {
      "text/html": [
       "<div>\n",
       "<style scoped>\n",
       "    .dataframe tbody tr th:only-of-type {\n",
       "        vertical-align: middle;\n",
       "    }\n",
       "\n",
       "    .dataframe tbody tr th {\n",
       "        vertical-align: top;\n",
       "    }\n",
       "\n",
       "    .dataframe thead th {\n",
       "        text-align: right;\n",
       "    }\n",
       "</style>\n",
       "<table border=\"1\" class=\"dataframe\">\n",
       "  <thead>\n",
       "    <tr style=\"text-align: right;\">\n",
       "      <th></th>\n",
       "      <th>prior</th>\n",
       "      <th>likelihood</th>\n",
       "      <th>unnorm</th>\n",
       "      <th>posterior</th>\n",
       "    </tr>\n",
       "  </thead>\n",
       "  <tbody>\n",
       "    <tr>\n",
       "      <th>Bowl 1</th>\n",
       "      <td>0.5</td>\n",
       "      <td>0.75</td>\n",
       "      <td>0.375</td>\n",
       "      <td>0.6</td>\n",
       "    </tr>\n",
       "    <tr>\n",
       "      <th>Bowl 2</th>\n",
       "      <td>0.5</td>\n",
       "      <td>0.50</td>\n",
       "      <td>0.250</td>\n",
       "      <td>0.4</td>\n",
       "    </tr>\n",
       "  </tbody>\n",
       "</table>\n",
       "</div>"
      ],
      "text/plain": [
       "        prior  likelihood  unnorm  posterior\n",
       "Bowl 1    0.5        0.75   0.375        0.6\n",
       "Bowl 2    0.5        0.50   0.250        0.4"
      ]
     },
     "execution_count": 21,
     "metadata": {},
     "output_type": "execute_result"
    }
   ],
   "source": [
    "# Unnormalized posteriors (numerator)\n",
    "table['unnorm'] = table['prior'] * table['likelihood']\n",
    "# Normalizing constant (denominator)\n",
    "prob_data = table['unnorm'].sum()\n",
    "print(\"Total Probability:\", prob_data)\n",
    "# Bayes theorem\n",
    "table['posterior'] = table['unnorm'] / prob_data\n",
    "table"
   ]
  },
  {
   "cell_type": "markdown",
   "metadata": {},
   "source": [
    "The posterior probability for getting a vanilla cookie from Bowl 1 is 0.6.\n",
    "\n",
    "- When we add up the unnormalized posteriors and divide through, we force the posteriors to add up to 1. This process is called “normalization”, which is why the total probability of the data is also called the “normalizing constant”."
   ]
  },
  {
   "cell_type": "markdown",
   "metadata": {},
   "source": [
    "> _Suppose I have a box with a 6-sided die, an 8-sided die, and a 12-sided die. I choose one of the dice at random, roll it, and report\n",
    "> that the outcome is a 1. What is the probability that I chose the 6-sided die?_\n",
    "\n",
    "Once you established priors and likelihoods, the remaining steps are always the same, so we can plug them into a function:"
   ]
  },
  {
   "cell_type": "code",
   "execution_count": 43,
   "metadata": {},
   "outputs": [
    {
     "data": {
      "text/html": [
       "<div>\n",
       "<style scoped>\n",
       "    .dataframe tbody tr th:only-of-type {\n",
       "        vertical-align: middle;\n",
       "    }\n",
       "\n",
       "    .dataframe tbody tr th {\n",
       "        vertical-align: top;\n",
       "    }\n",
       "\n",
       "    .dataframe thead th {\n",
       "        text-align: right;\n",
       "    }\n",
       "</style>\n",
       "<table border=\"1\" class=\"dataframe\">\n",
       "  <thead>\n",
       "    <tr style=\"text-align: right;\">\n",
       "      <th></th>\n",
       "      <th>prior</th>\n",
       "      <th>likelihood</th>\n",
       "    </tr>\n",
       "  </thead>\n",
       "  <tbody>\n",
       "    <tr>\n",
       "      <th>6</th>\n",
       "      <td>1/3</td>\n",
       "      <td>1/6</td>\n",
       "    </tr>\n",
       "    <tr>\n",
       "      <th>8</th>\n",
       "      <td>1/3</td>\n",
       "      <td>1/8</td>\n",
       "    </tr>\n",
       "    <tr>\n",
       "      <th>12</th>\n",
       "      <td>1/3</td>\n",
       "      <td>1/12</td>\n",
       "    </tr>\n",
       "  </tbody>\n",
       "</table>\n",
       "</div>"
      ],
      "text/plain": [
       "   prior likelihood\n",
       "6    1/3        1/6\n",
       "8    1/3        1/8\n",
       "12   1/3       1/12"
      ]
     },
     "execution_count": 43,
     "metadata": {},
     "output_type": "execute_result"
    }
   ],
   "source": [
    "table2 = pd.DataFrame(index=[6, 8, 12])\n",
    "\n",
    "from fractions import Fraction\n",
    "\n",
    "table2['prior'] = Fraction(1,3)\n",
    "table2['likelihood'] = Fraction(1,6), Fraction(1,8), Fraction(1,12)\n",
    "table2"
   ]
  },
  {
   "cell_type": "code",
   "execution_count": 32,
   "metadata": {},
   "outputs": [],
   "source": [
    "def update(table):\n",
    "    \"\"\"Compute the posterior probabilities.\"\"\"\n",
    "    table['unnorm'] = table['prior'] * table['likelihood']\n",
    "    prob_data = table['unnorm'].sum()\n",
    "    print(\"Total Probability:\", prob_data)\n",
    "    table['posterior'] = table['unnorm'] / prob_data\n",
    "    return table"
   ]
  },
  {
   "cell_type": "markdown",
   "metadata": {},
   "source": [
    "<div class=\"alert alert-block alert-info\">\n",
    "<b>Reminder:</b> Remember that Python uses square brackets to select the columns.\n",
    "</div>"
   ]
  },
  {
   "cell_type": "code",
   "execution_count": 23,
   "metadata": {},
   "outputs": [
    {
     "name": "stdout",
     "output_type": "stream",
     "text": [
      "Total Probability: 1/8\n"
     ]
    },
    {
     "data": {
      "text/html": [
       "<div>\n",
       "<style scoped>\n",
       "    .dataframe tbody tr th:only-of-type {\n",
       "        vertical-align: middle;\n",
       "    }\n",
       "\n",
       "    .dataframe tbody tr th {\n",
       "        vertical-align: top;\n",
       "    }\n",
       "\n",
       "    .dataframe thead th {\n",
       "        text-align: right;\n",
       "    }\n",
       "</style>\n",
       "<table border=\"1\" class=\"dataframe\">\n",
       "  <thead>\n",
       "    <tr style=\"text-align: right;\">\n",
       "      <th></th>\n",
       "      <th>prior</th>\n",
       "      <th>likelihood</th>\n",
       "      <th>unnorm</th>\n",
       "      <th>posterior</th>\n",
       "    </tr>\n",
       "  </thead>\n",
       "  <tbody>\n",
       "    <tr>\n",
       "      <th>6</th>\n",
       "      <td>1/3</td>\n",
       "      <td>1/6</td>\n",
       "      <td>1/18</td>\n",
       "      <td>4/9</td>\n",
       "    </tr>\n",
       "    <tr>\n",
       "      <th>8</th>\n",
       "      <td>1/3</td>\n",
       "      <td>1/8</td>\n",
       "      <td>1/24</td>\n",
       "      <td>1/3</td>\n",
       "    </tr>\n",
       "    <tr>\n",
       "      <th>12</th>\n",
       "      <td>1/3</td>\n",
       "      <td>1/12</td>\n",
       "      <td>1/36</td>\n",
       "      <td>2/9</td>\n",
       "    </tr>\n",
       "  </tbody>\n",
       "</table>\n",
       "</div>"
      ],
      "text/plain": [
       "   prior likelihood unnorm posterior\n",
       "6    1/3        1/6   1/18       4/9\n",
       "8    1/3        1/8   1/24       1/3\n",
       "12   1/3       1/12   1/36       2/9"
      ]
     },
     "execution_count": 23,
     "metadata": {},
     "output_type": "execute_result"
    }
   ],
   "source": [
    "prob_data = update(table2)\n",
    "prob_data"
   ]
  },
  {
   "cell_type": "markdown",
   "metadata": {},
   "source": [
    "> ## **2.3 The Monty Hall Problem**\n",
    "***\n",
    "\n",
    "> _The Monty Hall problem is based on a game show called *Let's Make a Deal*. If you are a contestant on the show, here's how the game works:_\n",
    ">\n",
    ">* _The host, Monty Hall, shows you three closed doors -- numbered 1, 2, and 3 -- and tells you that there is a prize behind each door._\n",
    ">\n",
    ">* _One prize is valuable (traditionally a car), the other two are less valuable (traditionally goats)._\n",
    ">\n",
    ">* _The object of the game is to guess which door has the car. If you guess right, you get to keep the car._\n",
    ">\n",
    "> _Suppose you pick Door 1. Before opening the door you chose, Monty opens Door 3 and reveals a goat. Then Monty offers you the option to stick with your original choice or switch to the remaining unopened door._\n",
    ">\n",
    "> _To maximize your chance of winning the car, should you stick with Door 1 or switch to Door 2?_\n",
    "\n",
    "The data is that the host opened Door 3 and revealed a goat. So let'sconsider the probability of the data under each hypothesis:\n",
    "\n",
    "* If the car is behind Door 1, Monty chooses Door 2 or 3 at random, so the probability he opens Door 3 is $1/2$.\n",
    "\n",
    "* If the car is behind Door 2, Monty has to open Door 3, so the probability of the data under this hypothesis is 1.\n",
    "\n",
    "* If the car is behind Door 3, Monty does not open it, so the probability of the data under this hypothesis is 0."
   ]
  },
  {
   "cell_type": "code",
   "execution_count": 42,
   "metadata": {},
   "outputs": [
    {
     "name": "stdout",
     "output_type": "stream",
     "text": [
      "Total Probability: 1/2\n"
     ]
    },
    {
     "data": {
      "text/html": [
       "<div>\n",
       "<style scoped>\n",
       "    .dataframe tbody tr th:only-of-type {\n",
       "        vertical-align: middle;\n",
       "    }\n",
       "\n",
       "    .dataframe tbody tr th {\n",
       "        vertical-align: top;\n",
       "    }\n",
       "\n",
       "    .dataframe thead th {\n",
       "        text-align: right;\n",
       "    }\n",
       "</style>\n",
       "<table border=\"1\" class=\"dataframe\">\n",
       "  <thead>\n",
       "    <tr style=\"text-align: right;\">\n",
       "      <th></th>\n",
       "      <th>prior</th>\n",
       "      <th>likelihood</th>\n",
       "      <th>unnorm</th>\n",
       "      <th>posterior</th>\n",
       "    </tr>\n",
       "  </thead>\n",
       "  <tbody>\n",
       "    <tr>\n",
       "      <th>Door 1</th>\n",
       "      <td>1/3</td>\n",
       "      <td>1/2</td>\n",
       "      <td>1/6</td>\n",
       "      <td>1/3</td>\n",
       "    </tr>\n",
       "    <tr>\n",
       "      <th>Door 2</th>\n",
       "      <td>1/3</td>\n",
       "      <td>1</td>\n",
       "      <td>1/3</td>\n",
       "      <td>2/3</td>\n",
       "    </tr>\n",
       "    <tr>\n",
       "      <th>Door 3</th>\n",
       "      <td>1/3</td>\n",
       "      <td>0</td>\n",
       "      <td>0</td>\n",
       "      <td>0</td>\n",
       "    </tr>\n",
       "  </tbody>\n",
       "</table>\n",
       "</div>"
      ],
      "text/plain": [
       "       prior likelihood unnorm posterior\n",
       "Door 1   1/3        1/2    1/6       1/3\n",
       "Door 2   1/3          1    1/3       2/3\n",
       "Door 3   1/3          0      0         0"
      ]
     },
     "execution_count": 42,
     "metadata": {},
     "output_type": "execute_result"
    }
   ],
   "source": [
    "table3 = pd.DataFrame(index=['Door 1', 'Door 2', 'Door 3'])\n",
    "table3['prior'] = Fraction(1,3)\n",
    "table3['likelihood'] = Fraction(1,2), Fraction(1), Fraction(0)\n",
    "prob_data = update(table3)\n",
    "prob_data"
   ]
  },
  {
   "cell_type": "markdown",
   "metadata": {},
   "source": [
    "After Monty opens Door 3, the posterior probability of Door 1 is $1/3$; the posterior probability of Door 2 is $2/3$. So you are better off switching from Door 1 to Door 2. Bayes's Theorem can help by providing a divide-and-conquer strategy:\n",
    "\n",
    "1.  First, write down the hypotheses (**the question, such as what is the probability the car is behind Door 3? or What is the probability that both children are girls?**) and the data (**such as knowing Monty opens Door 2 or that one of the children is a girl**).\n",
    "\n",
    "2.  Next, figure out the prior probabilities (**of each hypothesis happening**).\n",
    "\n",
    "3.  Finally, compute the likelihood of the data under each hypothesis (**given that _something_ happened, what are the odds of observing a certain hypothesis being true?**).\n",
    "\n",
    "The Bayes table does the rest."
   ]
  },
  {
   "cell_type": "markdown",
   "metadata": {},
   "source": [
    "> **Exercise:** _M&M's are small candy-coated chocolates that come in a variety of colors. Mars changes the mixture of colors from time to time._\n",
    ">\n",
    ">* _In 1994, the color mix in a bag of plain M&M's was 30\\% Brown, 20\\% Yellow, 20\\% Red, 10\\% Green, 10\\% Orange, 10\\% Tan._  \n",
    ">\n",
    ">* _In 1996, it was 24\\% Blue , 20\\% Green, 16\\% Orange, 14\\% Yellow, 13\\% Red, 13\\% Brown._\n",
    ">\n",
    "> _Suppose a friend of mine has two bags of M&M's, and he tells me\n",
    "that one is from 1994 and one from 1996.  He won't tell me which is\n",
    "which, but he gives me one M&M from each bag.  One is yellow and\n",
    "one is green.  What is the probability that the yellow one came\n",
    "from the 1994 bag?_\n"
   ]
  },
  {
   "cell_type": "code",
   "execution_count": 48,
   "metadata": {},
   "outputs": [
    {
     "name": "stdout",
     "output_type": "stream",
     "text": [
      "Total Probability: 0.027000000000000003\n"
     ]
    },
    {
     "data": {
      "text/html": [
       "<div>\n",
       "<style scoped>\n",
       "    .dataframe tbody tr th:only-of-type {\n",
       "        vertical-align: middle;\n",
       "    }\n",
       "\n",
       "    .dataframe tbody tr th {\n",
       "        vertical-align: top;\n",
       "    }\n",
       "\n",
       "    .dataframe thead th {\n",
       "        text-align: right;\n",
       "    }\n",
       "</style>\n",
       "<table border=\"1\" class=\"dataframe\">\n",
       "  <thead>\n",
       "    <tr style=\"text-align: right;\">\n",
       "      <th></th>\n",
       "      <th>prior</th>\n",
       "      <th>likelihood</th>\n",
       "      <th>unnorm</th>\n",
       "      <th>posterior</th>\n",
       "    </tr>\n",
       "  </thead>\n",
       "  <tbody>\n",
       "    <tr>\n",
       "      <th>A</th>\n",
       "      <td>1/2</td>\n",
       "      <td>0.040</td>\n",
       "      <td>0.02</td>\n",
       "      <td>0.740741</td>\n",
       "    </tr>\n",
       "    <tr>\n",
       "      <th>B</th>\n",
       "      <td>1/2</td>\n",
       "      <td>0.014</td>\n",
       "      <td>0.007</td>\n",
       "      <td>0.259259</td>\n",
       "    </tr>\n",
       "  </tbody>\n",
       "</table>\n",
       "</div>"
      ],
      "text/plain": [
       "  prior  likelihood unnorm posterior\n",
       "A   1/2       0.040   0.02  0.740741\n",
       "B   1/2       0.014  0.007  0.259259"
      ]
     },
     "execution_count": 48,
     "metadata": {},
     "output_type": "execute_result"
    }
   ],
   "source": [
    "# A = yellow from 1994, green from 1996\n",
    "# B = yellow from 1996, green from 1994\n",
    "\n",
    "table4 = pd.DataFrame(index = ['A', 'B'])\n",
    "table4['prior'] = Fraction(1/2)\n",
    "# Each M&M is drawn independently, so to get the joint prob. for each hypothesis, we just multiply the individual probabilities\n",
    "table4['likelihood'] = 0.2*0.2, 0.14*0.1\n",
    "prob_data = update(table4)\n",
    "prob_data"
   ]
  },
  {
   "cell_type": "markdown",
   "metadata": {},
   "source": [
    "There's a probability around 74% that the yellow M&M came from the 1994 bag."
   ]
  }
 ],
 "metadata": {
  "kernelspec": {
   "display_name": "base",
   "language": "python",
   "name": "python3"
  },
  "language_info": {
   "codemirror_mode": {
    "name": "ipython",
    "version": 3
   },
   "file_extension": ".py",
   "mimetype": "text/x-python",
   "name": "python",
   "nbconvert_exporter": "python",
   "pygments_lexer": "ipython3",
   "version": "3.12.7"
  }
 },
 "nbformat": 4,
 "nbformat_minor": 2
}
