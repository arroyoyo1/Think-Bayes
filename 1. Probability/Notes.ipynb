{
 "cells": [
  {
   "cell_type": "markdown",
   "metadata": {},
   "source": [
    "# ***1. Probability***"
   ]
  },
  {
   "cell_type": "markdown",
   "metadata": {},
   "source": [
    "> ## **1.1 Probabilities and fractions**\n",
    "***\n",
    "- <span style=\"color:#DCF763\">A probability, in simple terms is a fraction of a finite set. For example, if we survey 1000 people, and 20 of them are bank tellers, the fraction of people that work as bank tellers is 2%.</span>\n",
    "\n",
    "With this definition and an appropriate dataset, we can compute probabilities by counting. I’ll use data from the General Social Survey (GSS)."
   ]
  },
  {
   "cell_type": "code",
   "execution_count": 27,
   "metadata": {},
   "outputs": [],
   "source": [
    "# Load the data file\n",
    "from os.path import basename, exists\n",
    "\n",
    "def download(url):\n",
    "    filename = basename(url)\n",
    "    if not exists(filename):\n",
    "        from urllib.request import urlretrieve\n",
    "        local, _ = urlretrieve(url, filename)\n",
    "        print('Downloaded ' + local)\n",
    "    \n",
    "download('https://github.com/AllenDowney/ThinkBayes2/raw/master/data/gss_bayes.csv')"
   ]
  },
  {
   "cell_type": "markdown",
   "metadata": {},
   "source": [
    "I’ll use Pandas to read the data and store it in a DataFrame."
   ]
  },
  {
   "cell_type": "code",
   "execution_count": 28,
   "metadata": {},
   "outputs": [
    {
     "data": {
      "text/html": [
       "<div>\n",
       "<style scoped>\n",
       "    .dataframe tbody tr th:only-of-type {\n",
       "        vertical-align: middle;\n",
       "    }\n",
       "\n",
       "    .dataframe tbody tr th {\n",
       "        vertical-align: top;\n",
       "    }\n",
       "\n",
       "    .dataframe thead th {\n",
       "        text-align: right;\n",
       "    }\n",
       "</style>\n",
       "<table border=\"1\" class=\"dataframe\">\n",
       "  <thead>\n",
       "    <tr style=\"text-align: right;\">\n",
       "      <th></th>\n",
       "      <th>caseid</th>\n",
       "      <th>year</th>\n",
       "      <th>age</th>\n",
       "      <th>sex</th>\n",
       "      <th>polviews</th>\n",
       "      <th>partyid</th>\n",
       "      <th>indus10</th>\n",
       "    </tr>\n",
       "  </thead>\n",
       "  <tbody>\n",
       "    <tr>\n",
       "      <th>0</th>\n",
       "      <td>1</td>\n",
       "      <td>1974</td>\n",
       "      <td>21.0</td>\n",
       "      <td>1</td>\n",
       "      <td>4.0</td>\n",
       "      <td>2.0</td>\n",
       "      <td>4970.0</td>\n",
       "    </tr>\n",
       "    <tr>\n",
       "      <th>1</th>\n",
       "      <td>2</td>\n",
       "      <td>1974</td>\n",
       "      <td>41.0</td>\n",
       "      <td>1</td>\n",
       "      <td>5.0</td>\n",
       "      <td>0.0</td>\n",
       "      <td>9160.0</td>\n",
       "    </tr>\n",
       "    <tr>\n",
       "      <th>2</th>\n",
       "      <td>5</td>\n",
       "      <td>1974</td>\n",
       "      <td>58.0</td>\n",
       "      <td>2</td>\n",
       "      <td>6.0</td>\n",
       "      <td>1.0</td>\n",
       "      <td>2670.0</td>\n",
       "    </tr>\n",
       "    <tr>\n",
       "      <th>3</th>\n",
       "      <td>6</td>\n",
       "      <td>1974</td>\n",
       "      <td>30.0</td>\n",
       "      <td>1</td>\n",
       "      <td>5.0</td>\n",
       "      <td>4.0</td>\n",
       "      <td>6870.0</td>\n",
       "    </tr>\n",
       "    <tr>\n",
       "      <th>4</th>\n",
       "      <td>7</td>\n",
       "      <td>1974</td>\n",
       "      <td>48.0</td>\n",
       "      <td>1</td>\n",
       "      <td>5.0</td>\n",
       "      <td>4.0</td>\n",
       "      <td>7860.0</td>\n",
       "    </tr>\n",
       "  </tbody>\n",
       "</table>\n",
       "</div>"
      ],
      "text/plain": [
       "   caseid  year   age  sex  polviews  partyid  indus10\n",
       "0       1  1974  21.0    1       4.0      2.0   4970.0\n",
       "1       2  1974  41.0    1       5.0      0.0   9160.0\n",
       "2       5  1974  58.0    2       6.0      1.0   2670.0\n",
       "3       6  1974  30.0    1       5.0      4.0   6870.0\n",
       "4       7  1974  48.0    1       5.0      4.0   7860.0"
      ]
     },
     "execution_count": 28,
     "metadata": {},
     "output_type": "execute_result"
    }
   ],
   "source": [
    "import pandas as pd\n",
    "\n",
    "gss = pd.read_csv('gss_bayes.csv')\n",
    "gss.head()"
   ]
  },
  {
   "cell_type": "markdown",
   "metadata": {},
   "source": [
    "The DataFrame has one row for each person surveyed and one column for each variable I selected.\n",
    "\n",
    "The columns are\n",
    "\n",
    "* `caseid`: Respondent identifier.\n",
    "\n",
    "* `year`: Year when the respondent was surveyed.\n",
    "\n",
    "* `age`: Respondent's age when surveyed.\n",
    "\n",
    "* `sex`: Male (1) or female (2).\n",
    "\n",
    "* `polviews`: Political views on a range from liberal to conservative.\n",
    "\n",
    "* `partyid`: Political party affiliation, Democrat, Independent, or Republican.\n",
    "\n",
    "* `indus10`: Code for the industry the respondent works in."
   ]
  },
  {
   "cell_type": "markdown",
   "metadata": {},
   "source": [
    "The code for “Banking and related activities” is 6870, so we can select bankers and the fraction they represent like this:"
   ]
  },
  {
   "cell_type": "code",
   "execution_count": 29,
   "metadata": {},
   "outputs": [
    {
     "name": "stdout",
     "output_type": "stream",
     "text": [
      "Bankers in the survey:  728\n",
      "Fraction of bankers:  0.014769730168391155\n"
     ]
    }
   ],
   "source": [
    "# Pandas boolean series from the column indus10 that are bankers.\n",
    "banker = (gss['indus10'] == 6870)\n",
    "# Total number of bankers.\n",
    "print(\"Bankers in the survey: \", banker.sum())\n",
    "# Probability of sampling a random respondent that is a banker.\n",
    "print(\"Fraction of bankers: \", banker.mean())"
   ]
  },
  {
   "cell_type": "markdown",
   "metadata": {},
   "source": [
    "<div class=\"alert alert-block alert-info\">\n",
    "<b>Reminder:</b> Note that when you select a whole column you write the name of the DataFrame (gss) and the name of the column between apostrophes and inside squared brackets (['indus10']). You would also use outer parentheses when specifying a certain value (6780) to ensure that the comparison (== or <=) happens before assignment.\n",
    "</div>"
   ]
  },
  {
   "cell_type": "markdown",
   "metadata": {},
   "source": [
    "> ## **1.2 Conjunction and Conditional Probability**\n",
    "***\n",
    "I’ll put the code from the previous section in a function that takes a Boolean series and returns a probability:"
   ]
  },
  {
   "cell_type": "code",
   "execution_count": 30,
   "metadata": {},
   "outputs": [],
   "source": [
    "def prob(A):\n",
    "    \"\"\"Computes the probability of a proposition, A.\"\"\"    \n",
    "    return A.mean()"
   ]
  },
  {
   "cell_type": "markdown",
   "metadata": {},
   "source": [
    "- <span style=\"color:#DCF763\">Conjunction is another name for the logical and operation and it is commutative.</span>\n",
    "\n",
    "The values of `partyid` are encoded like this:\n",
    "\n",
    "```\n",
    "0\tStrong democrat\n",
    "1\tNot strong democrat\n",
    "2\tIndependent, near democrat\n",
    "3\tIndependent\n",
    "4\tIndependent, near republican\n",
    "5\tNot strong republican\n",
    "6\tStrong republican\n",
    "7\tOther party\n",
    "```\n",
    "\n",
    "I'll define `democrat` to include respondents who chose \"Strong democrat\" or \"Not strong democrat\":\n",
    "\n",
    "We can compute the probability that a respondent is a banker and a democrat:"
   ]
  },
  {
   "cell_type": "code",
   "execution_count": 31,
   "metadata": {},
   "outputs": [
    {
     "name": "stdout",
     "output_type": "stream",
     "text": [
      "Probability of sampling a democrat banker:  0.004686548995739501\n"
     ]
    }
   ],
   "source": [
    "# Filter democrat respondents.\n",
    "democrat = (gss['partyid'] <= 1)\n",
    "print(\"Probability of sampling a democrat banker: \", prob(banker & democrat))"
   ]
  },
  {
   "cell_type": "markdown",
   "metadata": {},
   "source": [
    "<div class=\"alert alert-block alert-info\">\n",
    "<b>Reminder:</b> prob(banker and democrat) would cause an error because and in Python does not work element-wise on Pandas Series, whereas prob(banker & democrat) performs an element-wise AND properly.\n",
    "</div>"
   ]
  },
  {
   "cell_type": "markdown",
   "metadata": {},
   "source": [
    "As we should expect, the probability of being a banker and a democrat is less than the probability of being a banker and the probability of being a democrat, because not all bankers are democrats and viceversa.\n",
    "\n",
    "- <span style=\"color:#DCF763\">Conditional probability is the probability of an event occurring, given that another event (by assumption or evidence) is already known to have occurred.</span>\n",
    "\n",
    "- <span style=\"color:#DCF763\">Conditional probability is not commutative.</span>\n",
    "\n",
    "We can use the bracket operator to select only the bankers and prob to compute the fraction that are female:"
   ]
  },
  {
   "cell_type": "code",
   "execution_count": 32,
   "metadata": {},
   "outputs": [
    {
     "name": "stdout",
     "output_type": "stream",
     "text": [
      "Probability of sampling a banker given that she's a female:  0.7706043956043956\n"
     ]
    }
   ],
   "source": [
    "# Filter all female respondents.\n",
    "female = (gss['sex'] == 2)\n",
    "# Filter bankers out of all female respondents. ´female´ and ´banker´ are already boolean series.\n",
    "fem_banker = female[banker]\n",
    "print(\"Probability of sampling a banker given that she's a female: \", prob(fem_banker))"
   ]
  },
  {
   "cell_type": "markdown",
   "metadata": {},
   "source": [
    "The other variables we'll consider are `polviews`, which describes the political views of the respondents, and `partyid`, which describes their affiliation with a political party.\n",
    "\n",
    "The values of `polviews` are on a seven-point scale:\n",
    "\n",
    "```\n",
    "1\tExtremely liberal\n",
    "2\tLiberal\n",
    "3\tSlightly liberal\n",
    "4\tModerate\n",
    "5\tSlightly conservative\n",
    "6\tConservative\n",
    "7\tExtremely conservative\n",
    "```\n",
    "\n",
    "We can use conditional probability to compute the probability that a respondent is liberal given that they are female. I’ll define liberal to be True for anyone whose response is “Extremely liberal”, “Liberal”, or “Slightly liberal”.\n",
    "\n",
    "Since I'll be using this calculation often, I'll wrap it into a function that takes two boolean series, proposition and given, and computes the conditional probability of proposition conditioned on given:"
   ]
  },
  {
   "cell_type": "code",
   "execution_count": 33,
   "metadata": {},
   "outputs": [],
   "source": [
    "def conditional(proposition, given):\n",
    "    \"\"\"Probability of A conditioned on given.\"\"\"\n",
    "    return prob(proposition[given])"
   ]
  },
  {
   "cell_type": "code",
   "execution_count": 34,
   "metadata": {},
   "outputs": [
    {
     "name": "stdout",
     "output_type": "stream",
     "text": [
      "Probability of sampling a liberal respondent given that she's a female:  0.27581004111500884\n"
     ]
    }
   ],
   "source": [
    "# Define liberal\n",
    "liberal = (gss['polviews'] <= 3)\n",
    "print(\"Probability of sampling a liberal respondent given that she's a female: \", conditional(liberal, given = female))"
   ]
  },
  {
   "cell_type": "markdown",
   "metadata": {},
   "source": [
    "We can combine conditional probability and conjunction. For example, here’s the probability a respondent is female, given that they are a liberal democrat. About 57% of liberal Democrats are female."
   ]
  },
  {
   "cell_type": "code",
   "execution_count": 35,
   "metadata": {},
   "outputs": [
    {
     "name": "stdout",
     "output_type": "stream",
     "text": [
      "Probability of sampling a female respondent given that they're a liberal democrat:  0.576085409252669\n"
     ]
    }
   ],
   "source": [
    "print(\"Probability of sampling a female respondent given that they're a liberal democrat: \", conditional(female, given = liberal & democrat))"
   ]
  },
  {
   "cell_type": "markdown",
   "metadata": {},
   "source": [
    "> ## **1.3 Laws of probability**\n",
    "***\n",
    "&emsp; ***Bayes Theorem:*** $P(A|B) = \\frac{P(A) P(B|A)}{P(B)}$\n",
    "- If A and B are independent, then the numerator is just $P(A)*P(B)$ and the result is only $P(A)$ <br>\n",
    "\n",
    "&emsp; ***Law of Total Probability:*** $P(A) = \\sum_i P(B_i) P(A|B_i)$ \n",
    "- This holds true as long as the conditions $B_i$ are mutually exclusive and collectively exhaustive (MECE), i.e. only one of them can be true, and one of them must be true, e.g. this survey considers that you can be either male or female and you can't be none."
   ]
  },
  {
   "cell_type": "code",
   "execution_count": 37,
   "metadata": {},
   "outputs": [
    {
     "name": "stdout",
     "output_type": "stream",
     "text": [
      "Probability of being a banker:  0.014769730168391155\n",
      "Probability of being a banker:  0.014769730168391153\n"
     ]
    }
   ],
   "source": [
    "# Filter male respondents\n",
    "male = (gss['sex'] == 1)\n",
    "# Total probability of being a banker\n",
    "print(\"Probability of being a banker: \", prob(banker))\n",
    "# Total probability of being a banker (using the law of total prob.)\n",
    "print(\"Probability of being a banker: \", (prob(male) * conditional(banker, given=male) +\n",
    "prob(female) * conditional(banker, given=female)))"
   ]
  }
 ],
 "metadata": {
  "kernelspec": {
   "display_name": "base",
   "language": "python",
   "name": "python3"
  },
  "language_info": {
   "codemirror_mode": {
    "name": "ipython",
    "version": 3
   },
   "file_extension": ".py",
   "mimetype": "text/x-python",
   "name": "python",
   "nbconvert_exporter": "python",
   "pygments_lexer": "ipython3",
   "version": "3.12.7"
  }
 },
 "nbformat": 4,
 "nbformat_minor": 2
}
